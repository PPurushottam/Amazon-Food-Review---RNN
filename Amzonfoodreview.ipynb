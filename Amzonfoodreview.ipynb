{
 "cells": [
  {
   "cell_type": "markdown",
   "id": "4d67fdeb-0946-4c52-b567-8fc32e2b068c",
   "metadata": {},
   "source": [
    "# Amazon Food Review Classification Prediction Using RNN"
   ]
  },
  {
   "cell_type": "code",
   "execution_count": 3,
   "id": "87c661bd-9cad-4494-8b05-f26cb3a28710",
   "metadata": {},
   "outputs": [],
   "source": [
    "# importing Libraries\n",
    "import pandas as pd\n",
    "import numpy as np\n",
    "\n",
    "import tensorflow as tf\n",
    "import keras\n",
    "from keras.layers import Dense, SimpleRNN, Embedding \n",
    "from keras.models import Sequential\n",
    "from tensorflow.keras.utils import to_categorical\n",
    "\n",
    "from tensorflow.keras.preprocessing.text import Tokenizer #to tokenize the words into sequence of unique numbers\n",
    "from keras.preprocessing.sequence import pad_sequences\n",
    "from tensorflow.keras.optimizers import Adam"
   ]
  },
  {
   "cell_type": "code",
   "execution_count": 4,
   "id": "b4e8d075-73ec-4dc5-a86d-ffc9ae08588e",
   "metadata": {},
   "outputs": [],
   "source": [
    "reviews=pd.read_csv(r\"D:\\Reviews.csv\")"
   ]
  },
  {
   "cell_type": "code",
   "execution_count": 81,
   "id": "fc792f8a-0cf8-4778-9eae-ebcffc1c0d26",
   "metadata": {},
   "outputs": [
    {
     "data": {
      "text/html": [
       "<div>\n",
       "<style scoped>\n",
       "    .dataframe tbody tr th:only-of-type {\n",
       "        vertical-align: middle;\n",
       "    }\n",
       "\n",
       "    .dataframe tbody tr th {\n",
       "        vertical-align: top;\n",
       "    }\n",
       "\n",
       "    .dataframe thead th {\n",
       "        text-align: right;\n",
       "    }\n",
       "</style>\n",
       "<table border=\"1\" class=\"dataframe\">\n",
       "  <thead>\n",
       "    <tr style=\"text-align: right;\">\n",
       "      <th></th>\n",
       "      <th>Id</th>\n",
       "      <th>ProductId</th>\n",
       "      <th>UserId</th>\n",
       "      <th>ProfileName</th>\n",
       "      <th>HelpfulnessNumerator</th>\n",
       "      <th>HelpfulnessDenominator</th>\n",
       "      <th>Score</th>\n",
       "      <th>Time</th>\n",
       "      <th>Summary</th>\n",
       "      <th>Text</th>\n",
       "    </tr>\n",
       "  </thead>\n",
       "  <tbody>\n",
       "    <tr>\n",
       "      <th>0</th>\n",
       "      <td>1</td>\n",
       "      <td>B001E4KFG0</td>\n",
       "      <td>A3SGXH7AUHU8GW</td>\n",
       "      <td>delmartian</td>\n",
       "      <td>1</td>\n",
       "      <td>1</td>\n",
       "      <td>5</td>\n",
       "      <td>1303862400</td>\n",
       "      <td>Good Quality Dog Food</td>\n",
       "      <td>I have bought several of the Vitality canned d...</td>\n",
       "    </tr>\n",
       "    <tr>\n",
       "      <th>1</th>\n",
       "      <td>2</td>\n",
       "      <td>B00813GRG4</td>\n",
       "      <td>A1D87F6ZCVE5NK</td>\n",
       "      <td>dll pa</td>\n",
       "      <td>0</td>\n",
       "      <td>0</td>\n",
       "      <td>1</td>\n",
       "      <td>1346976000</td>\n",
       "      <td>Not as Advertised</td>\n",
       "      <td>Product arrived labeled as Jumbo Salted Peanut...</td>\n",
       "    </tr>\n",
       "    <tr>\n",
       "      <th>2</th>\n",
       "      <td>3</td>\n",
       "      <td>B000LQOCH0</td>\n",
       "      <td>ABXLMWJIXXAIN</td>\n",
       "      <td>Natalia Corres \"Natalia Corres\"</td>\n",
       "      <td>1</td>\n",
       "      <td>1</td>\n",
       "      <td>4</td>\n",
       "      <td>1219017600</td>\n",
       "      <td>\"Delight\" says it all</td>\n",
       "      <td>This is a confection that has been around a fe...</td>\n",
       "    </tr>\n",
       "    <tr>\n",
       "      <th>3</th>\n",
       "      <td>4</td>\n",
       "      <td>B000UA0QIQ</td>\n",
       "      <td>A395BORC6FGVXV</td>\n",
       "      <td>Karl</td>\n",
       "      <td>3</td>\n",
       "      <td>3</td>\n",
       "      <td>2</td>\n",
       "      <td>1307923200</td>\n",
       "      <td>Cough Medicine</td>\n",
       "      <td>If you are looking for the secret ingredient i...</td>\n",
       "    </tr>\n",
       "    <tr>\n",
       "      <th>4</th>\n",
       "      <td>5</td>\n",
       "      <td>B006K2ZZ7K</td>\n",
       "      <td>A1UQRSCLF8GW1T</td>\n",
       "      <td>Michael D. Bigham \"M. Wassir\"</td>\n",
       "      <td>0</td>\n",
       "      <td>0</td>\n",
       "      <td>5</td>\n",
       "      <td>1350777600</td>\n",
       "      <td>Great taffy</td>\n",
       "      <td>Great taffy at a great price.  There was a wid...</td>\n",
       "    </tr>\n",
       "  </tbody>\n",
       "</table>\n",
       "</div>"
      ],
      "text/plain": [
       "   Id   ProductId          UserId                      ProfileName  \\\n",
       "0   1  B001E4KFG0  A3SGXH7AUHU8GW                       delmartian   \n",
       "1   2  B00813GRG4  A1D87F6ZCVE5NK                           dll pa   \n",
       "2   3  B000LQOCH0   ABXLMWJIXXAIN  Natalia Corres \"Natalia Corres\"   \n",
       "3   4  B000UA0QIQ  A395BORC6FGVXV                             Karl   \n",
       "4   5  B006K2ZZ7K  A1UQRSCLF8GW1T    Michael D. Bigham \"M. Wassir\"   \n",
       "\n",
       "   HelpfulnessNumerator  HelpfulnessDenominator  Score        Time  \\\n",
       "0                     1                       1      5  1303862400   \n",
       "1                     0                       0      1  1346976000   \n",
       "2                     1                       1      4  1219017600   \n",
       "3                     3                       3      2  1307923200   \n",
       "4                     0                       0      5  1350777600   \n",
       "\n",
       "                 Summary                                               Text  \n",
       "0  Good Quality Dog Food  I have bought several of the Vitality canned d...  \n",
       "1      Not as Advertised  Product arrived labeled as Jumbo Salted Peanut...  \n",
       "2  \"Delight\" says it all  This is a confection that has been around a fe...  \n",
       "3         Cough Medicine  If you are looking for the secret ingredient i...  \n",
       "4            Great taffy  Great taffy at a great price.  There was a wid...  "
      ]
     },
     "execution_count": 81,
     "metadata": {},
     "output_type": "execute_result"
    }
   ],
   "source": [
    "reviews.head()"
   ]
  },
  {
   "cell_type": "code",
   "execution_count": 82,
   "id": "12990a1e-d172-46b2-99c1-6302e9460e47",
   "metadata": {},
   "outputs": [],
   "source": [
    "df=reviews.iloc[:,[6,9]]"
   ]
  },
  {
   "cell_type": "code",
   "execution_count": 83,
   "id": "e918e054-7bba-4b65-a612-9cab69f9f48f",
   "metadata": {},
   "outputs": [
    {
     "data": {
      "text/html": [
       "<div>\n",
       "<style scoped>\n",
       "    .dataframe tbody tr th:only-of-type {\n",
       "        vertical-align: middle;\n",
       "    }\n",
       "\n",
       "    .dataframe tbody tr th {\n",
       "        vertical-align: top;\n",
       "    }\n",
       "\n",
       "    .dataframe thead th {\n",
       "        text-align: right;\n",
       "    }\n",
       "</style>\n",
       "<table border=\"1\" class=\"dataframe\">\n",
       "  <thead>\n",
       "    <tr style=\"text-align: right;\">\n",
       "      <th></th>\n",
       "      <th>Score</th>\n",
       "      <th>Text</th>\n",
       "    </tr>\n",
       "  </thead>\n",
       "  <tbody>\n",
       "    <tr>\n",
       "      <th>0</th>\n",
       "      <td>5</td>\n",
       "      <td>I have bought several of the Vitality canned d...</td>\n",
       "    </tr>\n",
       "    <tr>\n",
       "      <th>1</th>\n",
       "      <td>1</td>\n",
       "      <td>Product arrived labeled as Jumbo Salted Peanut...</td>\n",
       "    </tr>\n",
       "    <tr>\n",
       "      <th>2</th>\n",
       "      <td>4</td>\n",
       "      <td>This is a confection that has been around a fe...</td>\n",
       "    </tr>\n",
       "    <tr>\n",
       "      <th>3</th>\n",
       "      <td>2</td>\n",
       "      <td>If you are looking for the secret ingredient i...</td>\n",
       "    </tr>\n",
       "    <tr>\n",
       "      <th>4</th>\n",
       "      <td>5</td>\n",
       "      <td>Great taffy at a great price.  There was a wid...</td>\n",
       "    </tr>\n",
       "  </tbody>\n",
       "</table>\n",
       "</div>"
      ],
      "text/plain": [
       "   Score                                               Text\n",
       "0      5  I have bought several of the Vitality canned d...\n",
       "1      1  Product arrived labeled as Jumbo Salted Peanut...\n",
       "2      4  This is a confection that has been around a fe...\n",
       "3      2  If you are looking for the secret ingredient i...\n",
       "4      5  Great taffy at a great price.  There was a wid..."
      ]
     },
     "execution_count": 83,
     "metadata": {},
     "output_type": "execute_result"
    }
   ],
   "source": [
    "df.head()"
   ]
  },
  {
   "cell_type": "code",
   "execution_count": 84,
   "id": "2561e1f6-73b9-459f-b84c-676599a7e458",
   "metadata": {},
   "outputs": [],
   "source": [
    "df=df.rename(columns={'Score':'Y','Text':'X'})"
   ]
  },
  {
   "cell_type": "code",
   "execution_count": 85,
   "id": "e1719008-b610-4732-ab23-da7210afe4db",
   "metadata": {},
   "outputs": [
    {
     "data": {
      "text/plain": [
       "Y\n",
       "5    363122\n",
       "4     80655\n",
       "1     52268\n",
       "3     42640\n",
       "2     29769\n",
       "Name: count, dtype: int64"
      ]
     },
     "execution_count": 85,
     "metadata": {},
     "output_type": "execute_result"
    }
   ],
   "source": [
    "df.Y.value_counts()"
   ]
  },
  {
   "cell_type": "code",
   "execution_count": 86,
   "id": "6e61c1e0-5c97-487f-83b8-0879ed607d04",
   "metadata": {},
   "outputs": [],
   "source": [
    "df=df.replace({1:0,2:1,3:2,4:3,5:4})"
   ]
  },
  {
   "cell_type": "code",
   "execution_count": 87,
   "id": "457ff5da-e163-4f6c-a686-37bafbf0f08d",
   "metadata": {},
   "outputs": [],
   "source": [
    "# creating hyperparameters\n",
    "max_num_words = 10000 #unique words to be considered in set of documents\n",
    "seq_len=50 # how many of the unique words are preset in each document\n",
    "embedding_size = 100 # vector length of each word"
   ]
  },
  {
   "cell_type": "code",
   "execution_count": 88,
   "id": "4d146189-2346-49bd-9b93-200c3a462fc8",
   "metadata": {},
   "outputs": [],
   "source": [
    "tokenizer = Tokenizer(num_words=max_num_words)\n",
    "tokenizer.fit_on_texts(df['X']) # use the full dataset"
   ]
  },
  {
   "cell_type": "code",
   "execution_count": 89,
   "id": "8031b867-fd85-4223-a843-9bc36abe08fc",
   "metadata": {},
   "outputs": [],
   "source": [
    "from sklearn.model_selection import train_test_split\n",
    "\n",
    "df_train,df_test=train_test_split(df,test_size=.2)\n",
    "\n",
    "df_train_x=df_train.X\n",
    "df_train_y=df_train.Y\n",
    "\n",
    "df_test_x=df_test.X\n",
    "df_test_y=df_test.Y"
   ]
  },
  {
   "cell_type": "code",
   "execution_count": 102,
   "id": "346d4857-c56b-4dd4-a66c-3fe8165b8f8e",
   "metadata": {},
   "outputs": [],
   "source": [
    "df_train_y=to_categorical(df_train_y)"
   ]
  },
  {
   "cell_type": "code",
   "execution_count": 104,
   "id": "5cbc7988-b03e-44ff-9517-b6222eca8aab",
   "metadata": {},
   "outputs": [],
   "source": [
    "#sequencing and padding train test X data\n",
    "\n",
    "df_train_x=tokenizer.texts_to_sequences(df_train_x)\n",
    "df_train_x=pad_sequences(df_train_x,maxlen=seq_len)\n",
    "\n",
    "df_test_x=tokenizer.texts_to_sequences(df_test_x)\n",
    "df_test_x=pad_sequences(df_test_x,maxlen=seq_len)"
   ]
  },
  {
   "cell_type": "code",
   "execution_count": 105,
   "id": "f3df014e-5475-4e2b-aca2-e966473568e1",
   "metadata": {},
   "outputs": [],
   "source": [
    "#model building\n",
    "model=Sequential()\n",
    "\n",
    "model.add(Embedding(input_dim=max_num_words,output_dim=embedding_size))\n",
    "model.add(SimpleRNN(32))\n",
    "model.add(Dense(5,activation='softmax'))\n",
    "\n",
    "adam=Adam(learning_rate=0.001)\n",
    "\n",
    "model.compile(optimizer=adam, loss='categorical_crossentropy',metrics=['accuracy'])"
   ]
  },
  {
   "cell_type": "code",
   "execution_count": 106,
   "id": "af60e455-ab0d-4971-8bbe-6d35777e922c",
   "metadata": {},
   "outputs": [
    {
     "name": "stdout",
     "output_type": "stream",
     "text": [
      "Epoch 1/5\n",
      "\u001b[1m5685/5685\u001b[0m \u001b[32m━━━━━━━━━━━━━━━━━━━━\u001b[0m\u001b[37m\u001b[0m \u001b[1m117s\u001b[0m 20ms/step - accuracy: 0.6842 - loss: 0.8946 - val_accuracy: 0.7239 - val_loss: 0.7588\n",
      "Epoch 2/5\n",
      "\u001b[1m5685/5685\u001b[0m \u001b[32m━━━━━━━━━━━━━━━━━━━━\u001b[0m\u001b[37m\u001b[0m \u001b[1m118s\u001b[0m 21ms/step - accuracy: 0.7573 - loss: 0.6778 - val_accuracy: 0.7359 - val_loss: 0.7411\n",
      "Epoch 3/5\n",
      "\u001b[1m5685/5685\u001b[0m \u001b[32m━━━━━━━━━━━━━━━━━━━━\u001b[0m\u001b[37m\u001b[0m \u001b[1m127s\u001b[0m 22ms/step - accuracy: 0.7907 - loss: 0.5909 - val_accuracy: 0.7394 - val_loss: 0.7542\n",
      "Epoch 4/5\n",
      "\u001b[1m5685/5685\u001b[0m \u001b[32m━━━━━━━━━━━━━━━━━━━━\u001b[0m\u001b[37m\u001b[0m \u001b[1m132s\u001b[0m 23ms/step - accuracy: 0.8108 - loss: 0.5388 - val_accuracy: 0.7426 - val_loss: 0.7814\n",
      "Epoch 5/5\n",
      "\u001b[1m5685/5685\u001b[0m \u001b[32m━━━━━━━━━━━━━━━━━━━━\u001b[0m\u001b[37m\u001b[0m \u001b[1m136s\u001b[0m 24ms/step - accuracy: 0.8272 - loss: 0.5002 - val_accuracy: 0.7412 - val_loss: 0.7630\n"
     ]
    },
    {
     "data": {
      "text/plain": [
       "<keras.src.callbacks.history.History at 0x20ba30f4ad0>"
      ]
     },
     "execution_count": 106,
     "metadata": {},
     "output_type": "execute_result"
    }
   ],
   "source": [
    "model.fit(df_train_x,df_train_y,validation_split=.2,batch_size=64,epochs=5)"
   ]
  },
  {
   "cell_type": "code",
   "execution_count": 110,
   "id": "2dfec35e-4137-4e4c-be4c-f2624ec4960d",
   "metadata": {},
   "outputs": [
    {
     "name": "stdout",
     "output_type": "stream",
     "text": [
      "\u001b[1m3553/3553\u001b[0m \u001b[32m━━━━━━━━━━━━━━━━━━━━\u001b[0m\u001b[37m\u001b[0m \u001b[1m12s\u001b[0m 3ms/step\n"
     ]
    }
   ],
   "source": [
    "pred=model.predict(df_test_x)"
   ]
  },
  {
   "cell_type": "code",
   "execution_count": 112,
   "id": "9d08513b-2c44-4a1d-8827-e57a379506b5",
   "metadata": {},
   "outputs": [],
   "source": [
    "pred_cat=pred.argmax(axis=1)"
   ]
  },
  {
   "cell_type": "code",
   "execution_count": 114,
   "id": "4d94fb67-48c5-4e84-9647-31d5bd069464",
   "metadata": {},
   "outputs": [],
   "source": [
    "from sklearn.metrics import confusion_matrix, accuracy_score, classification_report"
   ]
  },
  {
   "cell_type": "code",
   "execution_count": 116,
   "id": "361accae-063c-41a3-80b2-3f2b7e631d2a",
   "metadata": {},
   "outputs": [
    {
     "data": {
      "text/plain": [
       "0.7452568804918596"
      ]
     },
     "execution_count": 116,
     "metadata": {},
     "output_type": "execute_result"
    }
   ],
   "source": [
    "accuracy_score(df_test_y,pred_cat)"
   ]
  },
  {
   "cell_type": "code",
   "execution_count": 120,
   "id": "fd23e62e-ba1f-49ab-92ca-2c85c0ec1c02",
   "metadata": {},
   "outputs": [
    {
     "data": {
      "text/plain": [
       "array([[ 7062,   802,   687,   366,  1598],\n",
       "       [ 1389,  1953,   929,   532,  1128],\n",
       "       [  777,   643,  3764,  1369,  2023],\n",
       "       [  418,   382,  1325,  6552,  7403],\n",
       "       [ 1006,   576,  1390,  4219, 65398]], dtype=int64)"
      ]
     },
     "execution_count": 120,
     "metadata": {},
     "output_type": "execute_result"
    }
   ],
   "source": [
    "confusion_matrix(df_test_y,pred_cat)"
   ]
  },
  {
   "cell_type": "code",
   "execution_count": null,
   "id": "1eae8163-39f9-43c4-9872-acf25246b9e4",
   "metadata": {},
   "outputs": [],
   "source": [
    "# 5 X 5\n",
    "# array([[ 7062,   802,   687,   366,  1598],\n",
    "#        [ 1389,  1953,   929,   532,  1128],\n",
    "#        [  777,   643,  3764,  1369,  2023],\n",
    "#        [  418,   382,  1325,  6552,  7403],\n",
    "#        [ 1006,   576,  1390,  4219, 65398]], dtype=int64)\n",
    "# accuracy_score = 0.7452568804918596"
   ]
  },
  {
   "cell_type": "code",
   "execution_count": 124,
   "id": "d68a8728-4727-4955-836e-d72f8ed73f6e",
   "metadata": {},
   "outputs": [],
   "source": [
    "df1=df.replace({1:0,2:0,3:1,4:1})"
   ]
  },
  {
   "cell_type": "code",
   "execution_count": 126,
   "id": "f4d211b3-a376-4411-bbaf-32c2fdcc1e20",
   "metadata": {},
   "outputs": [],
   "source": [
    "tokenizer = Tokenizer(num_words=max_num_words)\n",
    "tokenizer.fit_on_texts(df1['X']) # use the full dataset"
   ]
  },
  {
   "cell_type": "code",
   "execution_count": 128,
   "id": "7de47f60-a508-42ec-80de-5456b7c5d912",
   "metadata": {},
   "outputs": [],
   "source": [
    "from sklearn.model_selection import train_test_split\n",
    "\n",
    "df1_train,df1_test=train_test_split(df1,test_size=.2)\n",
    "\n",
    "df1_train_x=df1_train.X\n",
    "df1_train_y=df1_train.Y\n",
    "\n",
    "df1_test_x=df1_test.X\n",
    "df1_test_y=df1_test.Y"
   ]
  },
  {
   "cell_type": "code",
   "execution_count": 131,
   "id": "eeb46d7e-4c87-4c90-b44d-4b935a7e3b67",
   "metadata": {},
   "outputs": [],
   "source": [
    "df1_train_y=to_categorical(df1_train_y)"
   ]
  },
  {
   "cell_type": "code",
   "execution_count": 133,
   "id": "b81e01d6-b25e-417f-b5cf-a7ad4671b708",
   "metadata": {},
   "outputs": [],
   "source": [
    "#sequencing and padding train test X data\n",
    "\n",
    "df1_train_x=tokenizer.texts_to_sequences(df1_train_x)\n",
    "df1_train_x=pad_sequences(df1_train_x,maxlen=seq_len)\n",
    "\n",
    "df1_test_x=tokenizer.texts_to_sequences(df1_test_x)\n",
    "df1_test_x=pad_sequences(df1_test_x,maxlen=seq_len)"
   ]
  },
  {
   "cell_type": "code",
   "execution_count": 134,
   "id": "b4ccf1f0-22db-4cc0-963a-ed30afbb45e5",
   "metadata": {},
   "outputs": [],
   "source": [
    "#model building\n",
    "model=Sequential()\n",
    "\n",
    "model.add(Embedding(input_dim=max_num_words,output_dim=embedding_size))\n",
    "model.add(SimpleRNN(32))\n",
    "model.add(Dense(2,activation='softmax'))\n",
    "\n",
    "adam=Adam(learning_rate=0.001)\n",
    "\n",
    "model.compile(optimizer=adam, loss='categorical_crossentropy',metrics=['accuracy'])"
   ]
  },
  {
   "cell_type": "code",
   "execution_count": 137,
   "id": "069fe442-933d-4273-a4e0-b560c3471b1c",
   "metadata": {},
   "outputs": [
    {
     "name": "stdout",
     "output_type": "stream",
     "text": [
      "Epoch 1/5\n",
      "\u001b[1m5685/5685\u001b[0m \u001b[32m━━━━━━━━━━━━━━━━━━━━\u001b[0m\u001b[37m\u001b[0m \u001b[1m113s\u001b[0m 19ms/step - accuracy: 0.8540 - loss: 0.3397 - val_accuracy: 0.8883 - val_loss: 0.2727\n",
      "Epoch 2/5\n",
      "\u001b[1m5685/5685\u001b[0m \u001b[32m━━━━━━━━━━━━━━━━━━━━\u001b[0m\u001b[37m\u001b[0m \u001b[1m109s\u001b[0m 19ms/step - accuracy: 0.9042 - loss: 0.2408 - val_accuracy: 0.8962 - val_loss: 0.2608\n",
      "Epoch 3/5\n",
      "\u001b[1m5685/5685\u001b[0m \u001b[32m━━━━━━━━━━━━━━━━━━━━\u001b[0m\u001b[37m\u001b[0m \u001b[1m109s\u001b[0m 19ms/step - accuracy: 0.9203 - loss: 0.2069 - val_accuracy: 0.8990 - val_loss: 0.2602\n",
      "Epoch 4/5\n",
      "\u001b[1m5685/5685\u001b[0m \u001b[32m━━━━━━━━━━━━━━━━━━━━\u001b[0m\u001b[37m\u001b[0m \u001b[1m109s\u001b[0m 19ms/step - accuracy: 0.9330 - loss: 0.1785 - val_accuracy: 0.9017 - val_loss: 0.2618\n",
      "Epoch 5/5\n",
      "\u001b[1m5685/5685\u001b[0m \u001b[32m━━━━━━━━━━━━━━━━━━━━\u001b[0m\u001b[37m\u001b[0m \u001b[1m112s\u001b[0m 20ms/step - accuracy: 0.9438 - loss: 0.1537 - val_accuracy: 0.9012 - val_loss: 0.2680\n"
     ]
    },
    {
     "data": {
      "text/plain": [
       "<keras.src.callbacks.history.History at 0x20c0517a180>"
      ]
     },
     "execution_count": 137,
     "metadata": {},
     "output_type": "execute_result"
    }
   ],
   "source": [
    "model.fit(df1_train_x,df1_train_y,validation_split=.2,batch_size=64,epochs=5)"
   ]
  },
  {
   "cell_type": "code",
   "execution_count": 139,
   "id": "27f3a503-934f-4d3c-9bbf-8d02d4fee7d8",
   "metadata": {},
   "outputs": [
    {
     "name": "stdout",
     "output_type": "stream",
     "text": [
      "\u001b[1m3553/3553\u001b[0m \u001b[32m━━━━━━━━━━━━━━━━━━━━\u001b[0m\u001b[37m\u001b[0m \u001b[1m12s\u001b[0m 3ms/step\n"
     ]
    }
   ],
   "source": [
    "pred2=model.predict(df1_test_x)"
   ]
  },
  {
   "cell_type": "code",
   "execution_count": 146,
   "id": "763edbc9-31e0-44bd-af5f-570367da57a8",
   "metadata": {},
   "outputs": [],
   "source": [
    "pred2_cat=pred2.argmax(axis=1)"
   ]
  },
  {
   "cell_type": "code",
   "execution_count": 148,
   "id": "464d601d-be25-420c-8e32-3d9b9f00fcf0",
   "metadata": {},
   "outputs": [
    {
     "data": {
      "text/plain": [
       "0.9016896676078142"
      ]
     },
     "execution_count": 148,
     "metadata": {},
     "output_type": "execute_result"
    }
   ],
   "source": [
    "accuracy_score(df1_test_y,pred2_cat)"
   ]
  },
  {
   "cell_type": "code",
   "execution_count": null,
   "id": "97b24322-0544-46bf-8929-6d2735a64d62",
   "metadata": {},
   "outputs": [],
   "source": []
  }
 ],
 "metadata": {
  "kernelspec": {
   "display_name": "Python 3 (ipykernel)",
   "language": "python",
   "name": "python3"
  },
  "language_info": {
   "codemirror_mode": {
    "name": "ipython",
    "version": 3
   },
   "file_extension": ".py",
   "mimetype": "text/x-python",
   "name": "python",
   "nbconvert_exporter": "python",
   "pygments_lexer": "ipython3",
   "version": "3.12.7"
  }
 },
 "nbformat": 4,
 "nbformat_minor": 5
}
